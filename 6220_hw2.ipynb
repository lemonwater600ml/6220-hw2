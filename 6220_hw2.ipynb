{
  "nbformat": 4,
  "nbformat_minor": 0,
  "metadata": {
    "colab": {
      "name": "6220-hw2.ipynb",
      "provenance": [],
      "collapsed_sections": [],
      "authorship_tag": "ABX9TyOsXYrUghk5czSgwapgQFsn",
      "include_colab_link": true
    },
    "kernelspec": {
      "name": "python3",
      "display_name": "Python 3"
    }
  },
  "cells": [
    {
      "cell_type": "markdown",
      "metadata": {
        "id": "view-in-github",
        "colab_type": "text"
      },
      "source": [
        "<a href=\"https://colab.research.google.com/github/lemonwater600ml/6220-hw2/blob/master/6220_hw2.ipynb\" target=\"_parent\"><img src=\"https://colab.research.google.com/assets/colab-badge.svg\" alt=\"Open In Colab\"/></a>"
      ]
    },
    {
      "cell_type": "code",
      "metadata": {
        "id": "-3C2T1DCjBeR",
        "colab_type": "code",
        "colab": {
          "base_uri": "https://localhost:8080/",
          "height": 71
        },
        "outputId": "9797d721-4726-4053-fcc8-b7c9bba7324c"
      },
      "source": [
        "# Import libraries\n",
        "import tensorflow.compat.v2 as tf\n",
        "import tensorflow_datasets as tfds\n",
        "import numpy as np\n",
        "import time\n",
        "\n",
        "import matplotlib.pyplot as plt\n",
        "import seaborn as sns\n"
      ],
      "execution_count": 1,
      "outputs": [
        {
          "output_type": "stream",
          "text": [
            "/usr/local/lib/python3.6/dist-packages/statsmodels/tools/_testing.py:19: FutureWarning: pandas.util.testing is deprecated. Use the functions in the public API at pandas.testing instead.\n",
            "  import pandas.util.testing as tm\n"
          ],
          "name": "stderr"
        }
      ]
    },
    {
      "cell_type": "code",
      "metadata": {
        "id": "J6XAkO7AjZEn",
        "colab_type": "code",
        "colab": {
          "base_uri": "https://localhost:8080/",
          "height": 139
        },
        "outputId": "5c38dbd2-1b92-477f-fad5-f5cab58098e0"
      },
      "source": [
        "# Load data from tfds\n",
        "tfds.disable_progress_bar()\n",
        "tf.enable_v2_behavior()\n",
        "\n",
        "start = time.time()\n",
        "\n",
        "(ds_train, ds_test), ds_info = tfds.load(\n",
        "    'emnist/letters',\n",
        "    split=['train', 'test'],\n",
        "    shuffle_files=True,\n",
        "    as_supervised=True,\n",
        "    with_info=True,\n",
        ")\n",
        "\n",
        "print(\"Elapsed time for loading data: \\n\" +  str(round((time.time() - start)*1000)) + \"ms\")\n",
        "\n",
        "# Convert to np.array\n",
        "start = time.time()\n",
        "\n",
        "train_array = np.vstack(tfds.as_numpy(ds_train))\n",
        "X_train = np.array(list(map(lambda x: x[0], train_array)))\n",
        "y_train = np.array(list(map(lambda x: x[1], train_array)))\n",
        "\n",
        "test_array = np.vstack(tfds.as_numpy(ds_test))\n",
        "X_test = np.array(list(map(lambda x: x[0], test_array)))\n",
        "y_test = np.array(list(map(lambda x: x[1], test_array)))\n",
        "\n",
        "print(\"Elapsed time for converting data into np.array: \\n\" +  str(round((time.time() - start)*1000)) + \"ms\")"
      ],
      "execution_count": 2,
      "outputs": [
        {
          "output_type": "stream",
          "text": [
            "Elapsed time for loading data: \n",
            "183ms\n"
          ],
          "name": "stdout"
        },
        {
          "output_type": "stream",
          "text": [
            "/usr/local/lib/python3.6/dist-packages/ipykernel_launcher.py:20: FutureWarning: arrays to stack must be passed as a \"sequence\" type such as list or tuple. Support for non-sequence iterables such as generators is deprecated as of NumPy 1.16 and will raise an error in the future.\n",
            "/usr/local/lib/python3.6/dist-packages/ipykernel_launcher.py:24: FutureWarning: arrays to stack must be passed as a \"sequence\" type such as list or tuple. Support for non-sequence iterables such as generators is deprecated as of NumPy 1.16 and will raise an error in the future.\n"
          ],
          "name": "stderr"
        },
        {
          "output_type": "stream",
          "text": [
            "Elapsed time for converting data into np.array: \n",
            "32080ms\n"
          ],
          "name": "stdout"
        }
      ]
    },
    {
      "cell_type": "code",
      "metadata": {
        "id": "VpqK6FMKwXbJ",
        "colab_type": "code",
        "colab": {
          "base_uri": "https://localhost:8080/",
          "height": 85
        },
        "outputId": "36452722-fdc5-4d58-de69-3b59f8d810ba"
      },
      "source": [
        "# np.unique(y_train): 26\n",
        "# np.unique(y_train): 19\n",
        "# Select classes\n",
        "classes = [ 1,  2,  3,  4,  5,  6,  7,  8,  9, 10, 11, 12, 13, 14, 15, 16, 17, 18, 19]\n",
        "can = [1, 2, 3]\n",
        "not_can = [4,  5,  6,  7,  8,  9, 10, 11, 12, 13, 14, 15, 16, 17, 18, 19, 20, 21, 22, 23, 24, 25, 26]\n",
        "\n",
        "\n",
        "# Training data\n",
        "# k = 3    => 3 classes, 1600 \n",
        "# unkown > 4 ~ 19 => 16 classes. 100 each => unknow: 1600 images\n",
        "\n",
        "# Filter classes for training data\n",
        "counter = [0] * 26\n",
        "filter_arr = []\n",
        "for elm in y_train:\n",
        "  if int(elm) in can and counter[elm - 1] < 1600:\n",
        "    filter_arr.append(True)\n",
        "    counter[elm - 1] += 1\n",
        "  elif 4 <= int(elm) <= 19 and counter[elm - 1] < 100: \n",
        "    filter_arr.append(True)\n",
        "    counter[elm - 1] += 1\n",
        "  else:\n",
        "    filter_arr.append(False)\n",
        "\n",
        "y_train_k3 = y_train[filter_arr]\n",
        "print(y_train_k3.shape)\n",
        "# (6400,)\n",
        "X_train_k3 = X_train[filter_arr]\n",
        "# (6400, 28, 28, 1)\n",
        "print(X_train_k3.shape)\n",
        "\n",
        "# Test data\n",
        "counter_test = [0] * 26\n",
        "filter_arr_test = []\n",
        "for elm in y_test:\n",
        "  if int(elm) in can and counter_test[elm - 1] < 320:\n",
        "    filter_arr_test.append(True)\n",
        "    counter_test[elm - 1] += 1\n",
        "  elif 4 <= int(elm) <= 19 and counter_test[elm - 1] < 20: \n",
        "    filter_arr_test.append(True)\n",
        "    counter_test[elm - 1] += 1\n",
        "  else:\n",
        "    filter_arr_test.append(False)\n",
        "\n",
        "y_test_k3 = y_test[filter_arr_test]\n",
        "print(y_test_k3.shape)\n",
        "# (1280,)\n",
        "X_test_k3 = X_test[filter_arr_test]\n",
        "# (1280, 28, 28, 1)\n",
        "print(X_test_k3.shape)\n"
      ],
      "execution_count": 3,
      "outputs": [
        {
          "output_type": "stream",
          "text": [
            "(6400,)\n",
            "(6400, 28, 28, 1)\n",
            "(1280,)\n",
            "(1280, 28, 28, 1)\n"
          ],
          "name": "stdout"
        }
      ]
    },
    {
      "cell_type": "code",
      "metadata": {
        "id": "hXaYF0aYbvf6",
        "colab_type": "code",
        "colab": {
          "base_uri": "https://localhost:8080/",
          "height": 467
        },
        "outputId": "0d38840f-1bf9-465b-b8ab-e043c9833dfa"
      },
      "source": [
        "\n",
        "fig,axes = plt.subplots(3,5,figsize=(10,8))\n",
        "for i,ax in enumerate(axes.flat):\n",
        "    ax.imshow(X_train_k3[i].T.reshape([28,28]))\n",
        "    ax.set_xlabel(\"class:\"+ str(y_train_k3[i]))\n",
        "    # ax.set_xlabel(\"class:\"+ str(y_train_k3[i]) + \"(\" + str(chr(y_train_k3[i]+64)) + \")\")\n",
        "\n"
      ],
      "execution_count": 4,
      "outputs": [
        {
          "output_type": "display_data",
          "data": {
            "image/png": "[encoded data removed]",
            "text/plain": [
              "<Figure size 720x576 with 15 Axes>"
            ]
          },
          "metadata": {
            "tags": [],
            "needs_background": "light"
          }
        }
      ]
    },
    {
      "cell_type": "code",
      "metadata": {
        "id": "JIL_8TKPTRB7",
        "colab_type": "code",
        "colab": {}
      },
      "source": [
        "# Build model\n",
        "model = tf.keras.models.Sequential([\n",
        "  tf.keras.layers.Flatten(input_shape=(28, 28, 1)),\n",
        "  tf.keras.layers.Dense(128,activation='relu'),\n",
        "  tf.keras.layers.Dense(128, activation='relu'),\n",
        "  tf.keras.layers.Dense(64, activation='relu'),\n",
        "  tf.keras.layers.Dense(37, activation='softmax')\n",
        "])\n",
        "\n",
        "# Model configuration\n",
        "model.compile(\n",
        "    loss='sparse_categorical_crossentropy',\n",
        "    optimizer=tf.keras.optimizers.Adam(0.001),\n",
        "    metrics=['accuracy'],\n",
        ")\n"
      ],
      "execution_count": 5,
      "outputs": []
    },
    {
      "cell_type": "code",
      "metadata": {
        "id": "VQq6vRZVX-Hq",
        "colab_type": "code",
        "colab": {
          "base_uri": "https://localhost:8080/",
          "height": 411
        },
        "outputId": "7905750a-7879-46b8-e97a-98499801243b"
      },
      "source": [
        "# Train model\n",
        "start = time.time()\n",
        "\n",
        "history = model.fit(\n",
        "    X_train_k3, y_train_k3,\n",
        "    epochs=10,\n",
        "    validation_data=(X_test_k3, y_test_k3),\n",
        ")\n",
        "\n",
        "elapsed_time = time.time() - start\n",
        "print(\"Elapsed time for training training set: \\n\" + str(int(round(elapsed_time * 1000))) + \" ms\")\n"
      ],
      "execution_count": 6,
      "outputs": [
        {
          "output_type": "stream",
          "text": [
            "Epoch 1/10\n",
            "200/200 [==============================] - 0s 2ms/step - loss: 7.2536 - accuracy: 0.5839 - val_loss: 1.7417 - val_accuracy: 0.6938\n",
            "Epoch 2/10\n",
            "200/200 [==============================] - 0s 2ms/step - loss: 1.2152 - accuracy: 0.7270 - val_loss: 1.3154 - val_accuracy: 0.7250\n",
            "Epoch 3/10\n",
            "200/200 [==============================] - 0s 2ms/step - loss: 0.7888 - accuracy: 0.7947 - val_loss: 1.0933 - val_accuracy: 0.7547\n",
            "Epoch 4/10\n",
            "200/200 [==============================] - 0s 2ms/step - loss: 0.5963 - accuracy: 0.8292 - val_loss: 1.0269 - val_accuracy: 0.7836\n",
            "Epoch 5/10\n",
            "200/200 [==============================] - 0s 2ms/step - loss: 0.4819 - accuracy: 0.8642 - val_loss: 0.9609 - val_accuracy: 0.7914\n",
            "Epoch 6/10\n",
            "200/200 [==============================] - 0s 2ms/step - loss: 0.4190 - accuracy: 0.8736 - val_loss: 0.9495 - val_accuracy: 0.7914\n",
            "Epoch 7/10\n",
            "200/200 [==============================] - 0s 2ms/step - loss: 0.4036 - accuracy: 0.8834 - val_loss: 0.9565 - val_accuracy: 0.7859\n",
            "Epoch 8/10\n",
            "200/200 [==============================] - 0s 2ms/step - loss: 0.3914 - accuracy: 0.8889 - val_loss: 1.0434 - val_accuracy: 0.7961\n",
            "Epoch 9/10\n",
            "200/200 [==============================] - 0s 2ms/step - loss: 0.3425 - accuracy: 0.8988 - val_loss: 0.9451 - val_accuracy: 0.8008\n",
            "Epoch 10/10\n",
            "200/200 [==============================] - 0s 2ms/step - loss: 0.3182 - accuracy: 0.9056 - val_loss: 1.0021 - val_accuracy: 0.8242\n",
            "Elapsed time for training training set: \n",
            "4352 ms\n"
          ],
          "name": "stdout"
        }
      ]
    },
    {
      "cell_type": "code",
      "metadata": {
        "id": "xNQzKtSkBdWP",
        "colab_type": "code",
        "colab": {
          "base_uri": "https://localhost:8080/",
          "height": 68
        },
        "outputId": "9aa0c7e9-096c-4f8e-fd40-3c1bc6c7021c"
      },
      "source": [
        "# Evaluate training data\n",
        "start = time.time()\n",
        "\n",
        "model.evaluate(x = X_train_k3, y = y_train_k3, verbose=2)\n",
        "\n",
        "elapsed_time = time.time() - start\n",
        "print(\"Elapsed time for evaluating training set: \\n\" + str(int(round(elapsed_time * 1000))) + \" ms\")"
      ],
      "execution_count": 7,
      "outputs": [
        {
          "output_type": "stream",
          "text": [
            "200/200 - 0s - loss: 0.2491 - accuracy: 0.9234\n",
            "Elapsed time for evaluating training set: \n",
            "195 ms\n"
          ],
          "name": "stdout"
        }
      ]
    },
    {
      "cell_type": "code",
      "metadata": {
        "id": "fizP1MWABgCP",
        "colab_type": "code",
        "colab": {
          "base_uri": "https://localhost:8080/",
          "height": 68
        },
        "outputId": "090a784e-68cd-4f1a-b4f5-f00c1c5342d7"
      },
      "source": [
        "# Evaluate test data\n",
        "start = time.time()\n",
        "\n",
        "model.evaluate(x = X_test_k3, y = y_test_k3, verbose=2)\n",
        "\n",
        "elapsed_time = time.time() - start\n",
        "print(\"Elapsed time for evaluating test set: \\n\" + str(int(round(elapsed_time * 1000))) + \" ms\")"
      ],
      "execution_count": 8,
      "outputs": [
        {
          "output_type": "stream",
          "text": [
            "40/40 - 0s - loss: 1.0021 - accuracy: 0.8242\n",
            "Elapsed time for evaluating test set: \n",
            "67 ms\n"
          ],
          "name": "stdout"
        }
      ]
    },
    {
      "cell_type": "code",
      "metadata": {
        "id": "gFsQc1Xrch1i",
        "colab_type": "code",
        "colab": {
          "base_uri": "https://localhost:8080/",
          "height": 296
        },
        "outputId": "1e9a1cc6-54a5-44b1-c4af-a0797e040290"
      },
      "source": [
        "# Make accuracy plot\n",
        "import matplotlib.pyplot as plt\n",
        "import seaborn as sns\n",
        "q = len(history.history['accuracy'])\n",
        "\n",
        "plt.figsize=(10,10)\n",
        "sns.lineplot(x = range(1,1+q),y = history.history['accuracy'], label='Accuracy')\n",
        "plt.xlabel('epochs')\n",
        "plt.ylabel('Accuray')"
      ],
      "execution_count": 9,
      "outputs": [
        {
          "output_type": "execute_result",
          "data": {
            "text/plain": [
              "Text(0, 0.5, 'Accuray')"
            ]
          },
          "metadata": {
            "tags": []
          },
          "execution_count": 9
        },
        {
          "output_type": "display_data",
          "data": {
            "image/png": "[encoded data removed]",
            "text/plain": [
              "<Figure size 432x288 with 1 Axes>"
            ]
          },
          "metadata": {
            "tags": [],
            "needs_background": "light"
          }
        }
      ]
    },
    {
      "cell_type": "code",
      "metadata": {
        "id": "5n2RoEc0YH6b",
        "colab_type": "code",
        "colab": {
          "base_uri": "https://localhost:8080/",
          "height": 85
        },
        "outputId": "c6224b0d-f099-4bb3-b9c3-47367bf03f2b"
      },
      "source": [
        "# k = 11\n",
        "# Select classes\n",
        "classes = [ 1,  2,  3,  4,  5,  6,  7,  8,  9, 10, 11, 12, 13, 14, 15, 16, 17, 18, 19]\n",
        "can = [1,  2,  3,  4,  5,  6,  7,  8,  9, 10, 11 ]\n",
        "not_can = [12, 13, 14, 15, 16, 17, 18, 19]\n",
        "\n",
        "# Training data\n",
        "# k = 10 [1,  2,  3,  4,  5,  6,  7,  8,  9, 10, 11]    \n",
        "# => 11 classes, 1600 each\n",
        "# unkown > [12, 13, 14, 15, 16, 17, 18, 19] \n",
        "# => 8 classes. 200 each => unknow: 1600 images\n",
        "\n",
        "# Filter classes for training data\n",
        "counter = [0] * 26\n",
        "filter_arr = []\n",
        "for elm in y_train:\n",
        "  if int(elm) in can and counter[elm - 1] < 1600:\n",
        "    filter_arr.append(True)\n",
        "    counter[elm - 1] += 1\n",
        "  elif 12 <= int(elm) <= 19 and counter[elm - 1] < 200: \n",
        "    filter_arr.append(True)\n",
        "    counter[elm - 1] += 1\n",
        "  else:\n",
        "    filter_arr.append(False)\n",
        "\n",
        "y_train_k11 = y_train[filter_arr]\n",
        "print(y_train_k11.shape)\n",
        "# (19200,)\n",
        "X_train_k11 = X_train[filter_arr]\n",
        "# (19200, 28, 28, 1)\n",
        "print(X_train_k11.shape)\n",
        "\n",
        "# Test data\n",
        "counter_test = [0] * 26\n",
        "filter_arr_test = []\n",
        "for elm in y_test:\n",
        "  if int(elm) in can and counter_test[elm - 1] < 320:\n",
        "    filter_arr_test.append(True)\n",
        "    counter_test[elm - 1] += 1\n",
        "  elif 12 <= int(elm) <= 19 and counter_test[elm - 1] < 40: \n",
        "    filter_arr_test.append(True)\n",
        "    counter_test[elm - 1] += 1\n",
        "  else:\n",
        "    filter_arr_test.append(False)\n",
        "\n",
        "y_test_k11 = y_test[filter_arr_test]\n",
        "print(y_test_k11.shape)\n",
        "# (3840,)\n",
        "X_test_k11 = X_test[filter_arr_test]\n",
        "# (3840, 28, 28, 1)\n",
        "print(X_test_k11.shape)\n",
        "\n",
        "\n",
        "\n"
      ],
      "execution_count": 10,
      "outputs": [
        {
          "output_type": "stream",
          "text": [
            "(19200,)\n",
            "(19200, 28, 28, 1)\n",
            "(3840,)\n",
            "(3840, 28, 28, 1)\n"
          ],
          "name": "stdout"
        }
      ]
    },
    {
      "cell_type": "code",
      "metadata": {
        "id": "aMJynDxrFdA2",
        "colab_type": "code",
        "colab": {}
      },
      "source": [
        "# k = 11\n",
        "# Build model\n",
        "model11 = tf.keras.models.Sequential([\n",
        "  tf.keras.layers.Flatten(input_shape=(28, 28, 1)),\n",
        "  tf.keras.layers.Dense(128,activation='relu'),\n",
        "  tf.keras.layers.Dense(128, activation='relu'),\n",
        "  tf.keras.layers.Dense(64, activation='relu'),\n",
        "  tf.keras.layers.Dense(37, activation='softmax')\n",
        "])\n",
        "\n",
        "# Model configuration\n",
        "model11.compile(\n",
        "    loss='sparse_categorical_crossentropy',\n",
        "    optimizer=tf.keras.optimizers.Adam(0.001),\n",
        "    metrics=['accuracy'],\n",
        ")\n"
      ],
      "execution_count": 11,
      "outputs": []
    },
    {
      "cell_type": "code",
      "metadata": {
        "id": "og3dLCPjIC6l",
        "colab_type": "code",
        "colab": {
          "base_uri": "https://localhost:8080/",
          "height": 411
        },
        "outputId": "b6b7c75a-faf6-475c-ff46-4d814b81eaba"
      },
      "source": [
        "# k = 11\n",
        "# Train model\n",
        "start = time.time()\n",
        "\n",
        "history11 = model11.fit(\n",
        "    X_train_k11, y_train_k11,\n",
        "    epochs=10,\n",
        "    validation_data=(X_test_k11, y_test_k11),\n",
        ")\n",
        "\n",
        "elapsed_time = time.time() - start\n",
        "print(\"Elapsed time for training training set: \\n\" + str(int(round(elapsed_time * 1000))) + \" ms\")\n"
      ],
      "execution_count": 12,
      "outputs": [
        {
          "output_type": "stream",
          "text": [
            "Epoch 1/10\n",
            "600/600 [==============================] - 1s 2ms/step - loss: 3.7210 - accuracy: 0.4913 - val_loss: 1.4125 - val_accuracy: 0.6161\n",
            "Epoch 2/10\n",
            "600/600 [==============================] - 1s 2ms/step - loss: 1.1283 - accuracy: 0.6910 - val_loss: 1.0279 - val_accuracy: 0.7253\n",
            "Epoch 3/10\n",
            "600/600 [==============================] - 1s 2ms/step - loss: 0.8741 - accuracy: 0.7532 - val_loss: 0.8903 - val_accuracy: 0.7508\n",
            "Epoch 4/10\n",
            "600/600 [==============================] - 1s 2ms/step - loss: 0.7100 - accuracy: 0.7972 - val_loss: 0.7531 - val_accuracy: 0.8021\n",
            "Epoch 5/10\n",
            "600/600 [==============================] - 1s 2ms/step - loss: 0.6177 - accuracy: 0.8193 - val_loss: 0.7302 - val_accuracy: 0.8062\n",
            "Epoch 6/10\n",
            "600/600 [==============================] - 1s 2ms/step - loss: 0.5540 - accuracy: 0.8340 - val_loss: 0.7037 - val_accuracy: 0.8148\n",
            "Epoch 7/10\n",
            "600/600 [==============================] - 1s 2ms/step - loss: 0.5063 - accuracy: 0.8507 - val_loss: 0.7331 - val_accuracy: 0.7992\n",
            "Epoch 8/10\n",
            "600/600 [==============================] - 1s 2ms/step - loss: 0.4649 - accuracy: 0.8610 - val_loss: 0.6852 - val_accuracy: 0.8240\n",
            "Epoch 9/10\n",
            "600/600 [==============================] - 1s 2ms/step - loss: 0.4424 - accuracy: 0.8669 - val_loss: 0.6438 - val_accuracy: 0.8292\n",
            "Epoch 10/10\n",
            "600/600 [==============================] - 1s 2ms/step - loss: 0.3983 - accuracy: 0.8799 - val_loss: 0.5891 - val_accuracy: 0.8482\n",
            "Elapsed time for training training set: \n",
            "11671 ms\n"
          ],
          "name": "stdout"
        }
      ]
    },
    {
      "cell_type": "code",
      "metadata": {
        "id": "81bryRfsFgkB",
        "colab_type": "code",
        "colab": {
          "base_uri": "https://localhost:8080/",
          "height": 68
        },
        "outputId": "a765a99b-537a-4434-f93c-4a0d88309ccc"
      },
      "source": [
        "# k = 11\n",
        "# Evaluate training data\n",
        "start = time.time()\n",
        "\n",
        "model11.evaluate(x = X_train_k11, y = y_train_k11, verbose=2)\n",
        "\n",
        "elapsed_time = time.time() - start\n",
        "print(\"Elapsed time for evaluating training set: \\n\" + str(int(round(elapsed_time * 1000))) + \" ms\")"
      ],
      "execution_count": 13,
      "outputs": [
        {
          "output_type": "stream",
          "text": [
            "600/600 - 1s - loss: 0.3116 - accuracy: 0.9024\n",
            "Elapsed time for evaluating training set: \n",
            "538 ms\n"
          ],
          "name": "stdout"
        }
      ]
    },
    {
      "cell_type": "code",
      "metadata": {
        "id": "a0PtEflWFi9V",
        "colab_type": "code",
        "colab": {
          "base_uri": "https://localhost:8080/",
          "height": 68
        },
        "outputId": "5770b3ce-f06c-463f-ee6c-c13d8679ea17"
      },
      "source": [
        "# k = 11\n",
        "# Evaluate test data\n",
        "start = time.time()\n",
        "\n",
        "model11.evaluate(x = X_test_k11, y = y_test_k11, verbose=2)\n",
        "\n",
        "elapsed_time = time.time() - start\n",
        "print(\"Elapsed time for evaluating test set: \\n\" + str(int(round(elapsed_time * 1000))) + \" ms\")"
      ],
      "execution_count": 14,
      "outputs": [
        {
          "output_type": "stream",
          "text": [
            "120/120 - 0s - loss: 0.5891 - accuracy: 0.8482\n",
            "Elapsed time for evaluating test set: \n",
            "136 ms\n"
          ],
          "name": "stdout"
        }
      ]
    },
    {
      "cell_type": "code",
      "metadata": {
        "id": "H9tj07HoFqLN",
        "colab_type": "code",
        "colab": {
          "base_uri": "https://localhost:8080/",
          "height": 296
        },
        "outputId": "a065b56a-4e16-40bd-b642-1f4d187ce4e0"
      },
      "source": [
        "# k = 11\n",
        "# Make accuracy plot\n",
        "import matplotlib.pyplot as plt\n",
        "import seaborn as sns\n",
        "q = len(history11.history['accuracy'])\n",
        "\n",
        "plt.figsize=(10,10)\n",
        "sns.lineplot(x = range(1,1+q),y = history11.history['accuracy'], label='Accuracy')\n",
        "plt.xlabel('epochs')\n",
        "plt.ylabel('Accuray')"
      ],
      "execution_count": 15,
      "outputs": [
        {
          "output_type": "execute_result",
          "data": {
            "text/plain": [
              "Text(0, 0.5, 'Accuray')"
            ]
          },
          "metadata": {
            "tags": []
          },
          "execution_count": 15
        },
        {
          "output_type": "display_data",
          "data": {
            "image/png": "[encoded data removed]",
            "text/plain": [
              "<Figure size 432x288 with 1 Axes>"
            ]
          },
          "metadata": {
            "tags": [],
            "needs_background": "light"
          }
        }
      ]
    },
    {
      "cell_type": "code",
      "metadata": {
        "id": "zpozJl5rFss5",
        "colab_type": "code",
        "colab": {}
      },
      "source": [
        ""
      ],
      "execution_count": 15,
      "outputs": []
    }
  ]
}