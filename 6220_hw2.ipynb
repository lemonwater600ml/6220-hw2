{
  "nbformat": 4,
  "nbformat_minor": 0,
  "metadata": {
    "colab": {
      "name": "6220-hw2.ipynb",
      "provenance": [],
      "collapsed_sections": [],
      "authorship_tag": "ABX9TyNv4pmHxhvAmGSGtd+gnZgD",
      "include_colab_link": true
    },
    "kernelspec": {
      "name": "python3",
      "display_name": "Python 3"
    }
  },
  "cells": [
    {
      "cell_type": "markdown",
      "metadata": {
        "id": "view-in-github",
        "colab_type": "text"
      },
      "source": [
        "<a href=\"https://colab.research.google.com/github/lemonwater600ml/6220-hw2/blob/master/6220_hw2.ipynb\" target=\"_parent\"><img src=\"https://colab.research.google.com/assets/colab-badge.svg\" alt=\"Open In Colab\"/></a>"
      ]
    },
    {
      "cell_type": "code",
      "metadata": {
        "id": "-3C2T1DCjBeR",
        "colab_type": "code",
        "colab": {
          "base_uri": "https://localhost:8080/",
          "height": 51
        },
        "outputId": "17ddffd3-0ef5-4fe8-94c8-18e6a6228c45"
      },
      "source": [
        "# Import libraries\n",
        "import tensorflow.compat.v2 as tf\n",
        "import tensorflow_datasets as tfds\n",
        "import numpy as np\n",
        "import time\n",
        "\n",
        "import matplotlib.pyplot as plt\n",
        "import seaborn as sns\n"
      ],
      "execution_count": null,
      "outputs": [
        {
          "output_type": "stream",
          "text": [
            "/usr/local/lib/python3.6/dist-packages/statsmodels/tools/_testing.py:19: FutureWarning: pandas.util.testing is deprecated. Use the functions in the public API at pandas.testing instead.\n",
            "  import pandas.util.testing as tm\n"
          ],
          "name": "stderr"
        }
      ]
    },
    {
      "cell_type": "code",
      "metadata": {
        "id": "J6XAkO7AjZEn",
        "colab_type": "code",
        "colab": {
          "base_uri": "https://localhost:8080/",
          "height": 139
        },
        "outputId": "57ee1510-9a2a-4885-8185-63e0a7b197ad"
      },
      "source": [
        "# Load data from tfds\n",
        "tfds.disable_progress_bar()\n",
        "tf.enable_v2_behavior()\n",
        "\n",
        "start = time.time()\n",
        "\n",
        "(ds_train, ds_test), ds_info = tfds.load(\n",
        "    'emnist/letters',\n",
        "    split=['train', 'test'],\n",
        "    shuffle_files=True,\n",
        "    as_supervised=True,\n",
        "    with_info=True,\n",
        ")\n",
        "\n",
        "print(\"Elapsed time for loading data: \\n\" +  str(round((time.time() - start)*1000)) + \"ms\")\n",
        "\n",
        "# Convert to np.array\n",
        "start = time.time()\n",
        "\n",
        "train_array = np.vstack(tfds.as_numpy(ds_train))\n",
        "X_train = np.array(list(map(lambda x: x[0], train_array)))\n",
        "y_train = np.array(list(map(lambda x: x[1], train_array)))\n",
        "\n",
        "test_array = np.vstack(tfds.as_numpy(ds_test))\n",
        "X_test = np.array(list(map(lambda x: x[0], test_array)))\n",
        "y_test = np.array(list(map(lambda x: x[1], test_array)))\n",
        "\n",
        "print(\"Elapsed time for converting data into np.array: \\n\" +  str(round((time.time() - start)*1000)) + \"ms\")"
      ],
      "execution_count": null,
      "outputs": [
        {
          "output_type": "stream",
          "text": [
            "Elapsed time for loading data: \n",
            "189ms\n"
          ],
          "name": "stdout"
        },
        {
          "output_type": "stream",
          "text": [
            "/usr/local/lib/python3.6/dist-packages/ipykernel_launcher.py:20: FutureWarning: arrays to stack must be passed as a \"sequence\" type such as list or tuple. Support for non-sequence iterables such as generators is deprecated as of NumPy 1.16 and will raise an error in the future.\n",
            "/usr/local/lib/python3.6/dist-packages/ipykernel_launcher.py:24: FutureWarning: arrays to stack must be passed as a \"sequence\" type such as list or tuple. Support for non-sequence iterables such as generators is deprecated as of NumPy 1.16 and will raise an error in the future.\n"
          ],
          "name": "stderr"
        },
        {
          "output_type": "stream",
          "text": [
            "Elapsed time for converting data into np.array: \n",
            "35275ms\n"
          ],
          "name": "stdout"
        }
      ]
    },
    {
      "cell_type": "code",
      "metadata": {
        "id": "VpqK6FMKwXbJ",
        "colab_type": "code",
        "colab": {
          "base_uri": "https://localhost:8080/",
          "height": 85
        },
        "outputId": "b210b15c-cbc6-4329-ecfb-3116c7d7ac21"
      },
      "source": [
        "# np.unique(y_train): 26\n",
        "# np.unique(y_train): 19\n",
        "# Select classes\n",
        "classes = [ 1,  2,  3,  4,  5,  6,  7,  8,  9, 10, 11, 12, 13, 14, 15, 16, 17, 18, 19]\n",
        "can = [1, 2, 3]\n",
        "not_can = [4,  5,  6,  7,  8,  9, 10, 11, 12, 13, 14, 15, 16, 17, 18, 19, 20, 21, 22, 23, 24, 25, 26]\n",
        "\n",
        "\n",
        "# Training data\n",
        "# k = 3    => 3 classes, 1600 \n",
        "# unkown > 4 ~ 19 => 16 classes. 100 each => unknow: 1600 images\n",
        "\n",
        "# Filter classes for training data\n",
        "counter = [0] * 26\n",
        "filter_arr = []\n",
        "for elm in y_train:\n",
        "  if int(elm) in can and counter[elm - 1] < 1600:\n",
        "    filter_arr.append(True)\n",
        "    counter[elm - 1] += 1\n",
        "  elif 4 <= int(elm) <= 19 and counter[elm - 1] < 100: \n",
        "    filter_arr.append(True)\n",
        "    counter[elm - 1] += 1\n",
        "  else:\n",
        "    filter_arr.append(False)\n",
        "\n",
        "y_train_k3 = y_train[filter_arr]\n",
        "print(y_train_k3.shape)\n",
        "# (6400,)\n",
        "X_train_k3 = X_train[filter_arr]\n",
        "# (6400, 28, 28, 1)\n",
        "print(X_train_k3.shape)\n",
        "\n",
        "# Test data\n",
        "counter_test = [0] * 26\n",
        "filter_arr_test = []\n",
        "for elm in y_test:\n",
        "  if int(elm) in can and counter_test[elm - 1] < 320:\n",
        "    filter_arr_test.append(True)\n",
        "    counter_test[elm - 1] += 1\n",
        "  elif 4 <= int(elm) <= 19 and counter_test[elm - 1] < 20: \n",
        "    filter_arr_test.append(True)\n",
        "    counter_test[elm - 1] += 1\n",
        "  else:\n",
        "    filter_arr_test.append(False)\n",
        "\n",
        "y_test_k3 = y_test[filter_arr_test]\n",
        "print(y_test_k3.shape)\n",
        "# (1280,)\n",
        "X_test_k3 = X_test[filter_arr_test]\n",
        "# (1280, 28, 28, 1)\n",
        "print(X_test_k3.shape)\n"
      ],
      "execution_count": null,
      "outputs": [
        {
          "output_type": "stream",
          "text": [
            "(6400,)\n",
            "(6400, 28, 28, 1)\n",
            "(1280,)\n",
            "(1280, 28, 28, 1)\n"
          ],
          "name": "stdout"
        }
      ]
    },
    {
      "cell_type": "code",
      "metadata": {
        "id": "JIL_8TKPTRB7",
        "colab_type": "code",
        "colab": {}
      },
      "source": [
        "# Build model\n",
        "model = tf.keras.models.Sequential([\n",
        "  tf.keras.layers.Flatten(input_shape=(28, 28, 1)),\n",
        "  tf.keras.layers.Dense(128,activation='relu'),\n",
        "  tf.keras.layers.Dense(128, activation='relu'),\n",
        "  tf.keras.layers.Dense(64, activation='relu'),\n",
        "  tf.keras.layers.Dense(37, activation='softmax')\n",
        "])\n",
        "\n",
        "# Model configuration\n",
        "model.compile(\n",
        "    loss='sparse_categorical_crossentropy',\n",
        "    optimizer=tf.keras.optimizers.Adam(0.001),\n",
        "    metrics=['accuracy'],\n",
        ")\n"
      ],
      "execution_count": null,
      "outputs": []
    },
    {
      "cell_type": "code",
      "metadata": {
        "id": "VQq6vRZVX-Hq",
        "colab_type": "code",
        "colab": {
          "base_uri": "https://localhost:8080/",
          "height": 391
        },
        "outputId": "46ead3b8-1c76-4d02-d41d-328a4e7ca2ac"
      },
      "source": [
        "# Train model\n",
        "start = time.time()\n",
        "\n",
        "history = model.fit(\n",
        "    X_train_k3, y_train_k3,\n",
        "    epochs=10,\n",
        "    validation_data=(X_test_k3, y_test_k3),\n",
        ")\n",
        "\n",
        "elapsed_time = time.time() - start\n",
        "print(\"Elapsed time for training training set: \\n\" + str(int(round(elapsed_time * 1000))) + \" ms\")\n"
      ],
      "execution_count": null,
      "outputs": [
        {
          "output_type": "stream",
          "text": [
            "Epoch 1/10\n",
            "200/200 [==============================] - 0s 2ms/step - loss: 5.5067 - accuracy: 0.5602 - val_loss: 1.6179 - val_accuracy: 0.6523\n",
            "Epoch 2/10\n",
            "200/200 [==============================] - 0s 2ms/step - loss: 1.2849 - accuracy: 0.6919 - val_loss: 1.2670 - val_accuracy: 0.7164\n",
            "Epoch 3/10\n",
            "200/200 [==============================] - 0s 2ms/step - loss: 0.9852 - accuracy: 0.7480 - val_loss: 1.0950 - val_accuracy: 0.7492\n",
            "Epoch 4/10\n",
            "200/200 [==============================] - 0s 2ms/step - loss: 0.7619 - accuracy: 0.7856 - val_loss: 1.0499 - val_accuracy: 0.7508\n",
            "Epoch 5/10\n",
            "200/200 [==============================] - 0s 2ms/step - loss: 0.6417 - accuracy: 0.8152 - val_loss: 1.0154 - val_accuracy: 0.7766\n",
            "Epoch 6/10\n",
            "200/200 [==============================] - 0s 2ms/step - loss: 0.5387 - accuracy: 0.8422 - val_loss: 0.9126 - val_accuracy: 0.7984\n",
            "Epoch 7/10\n",
            "200/200 [==============================] - 0s 2ms/step - loss: 0.4549 - accuracy: 0.8625 - val_loss: 0.8554 - val_accuracy: 0.8062\n",
            "Epoch 8/10\n",
            "200/200 [==============================] - 0s 2ms/step - loss: 0.3958 - accuracy: 0.8755 - val_loss: 0.8381 - val_accuracy: 0.8180\n",
            "Epoch 9/10\n",
            "200/200 [==============================] - 0s 2ms/step - loss: 0.3635 - accuracy: 0.8844 - val_loss: 0.9141 - val_accuracy: 0.7992\n",
            "Epoch 10/10\n",
            "200/200 [==============================] - 0s 2ms/step - loss: 0.3480 - accuracy: 0.8920 - val_loss: 0.9327 - val_accuracy: 0.8195\n",
            "Elapsed time for training training set: \n",
            "4351 ms\n"
          ],
          "name": "stdout"
        }
      ]
    },
    {
      "cell_type": "code",
      "metadata": {
        "id": "xNQzKtSkBdWP",
        "colab_type": "code",
        "colab": {
          "base_uri": "https://localhost:8080/",
          "height": 68
        },
        "outputId": "8bbc7772-ed6b-4fca-8cfe-10b676b4e8e6"
      },
      "source": [
        "# Evaluate training data\n",
        "start = time.time()\n",
        "\n",
        "model.evaluate(x = X_train_k3, y = y_train_k3, verbose=2)\n",
        "\n",
        "elapsed_time = time.time() - start\n",
        "print(\"Elapsed time for evaluating training set: \\n\" + str(int(round(elapsed_time * 1000))) + \" ms\")"
      ],
      "execution_count": null,
      "outputs": [
        {
          "output_type": "stream",
          "text": [
            "200/200 - 0s - loss: 0.2585 - accuracy: 0.9181\n",
            "Elapsed time for evaluating training set: \n",
            "202 ms\n"
          ],
          "name": "stdout"
        }
      ]
    },
    {
      "cell_type": "code",
      "metadata": {
        "id": "fizP1MWABgCP",
        "colab_type": "code",
        "colab": {
          "base_uri": "https://localhost:8080/",
          "height": 68
        },
        "outputId": "b2dc949f-e0f2-481e-a114-5e91445b2cfa"
      },
      "source": [
        "# Evaluate test data\n",
        "start = time.time()\n",
        "\n",
        "model.evaluate(x = X_test_k3, y = y_test_k3, verbose=2)\n",
        "\n",
        "elapsed_time = time.time() - start\n",
        "print(\"Elapsed time for evaluating test set: \\n\" + str(int(round(elapsed_time * 1000))) + \" ms\")"
      ],
      "execution_count": null,
      "outputs": [
        {
          "output_type": "stream",
          "text": [
            "40/40 - 0s - loss: 0.9327 - accuracy: 0.8195\n",
            "Elapsed time for evaluating test set: \n",
            "61 ms\n"
          ],
          "name": "stdout"
        }
      ]
    },
    {
      "cell_type": "code",
      "metadata": {
        "id": "gFsQc1Xrch1i",
        "colab_type": "code",
        "colab": {
          "base_uri": "https://localhost:8080/",
          "height": 296
        },
        "outputId": "818ecd40-4b22-4dd5-9d77-50802e830702"
      },
      "source": [
        "# Make accuracy plot\n",
        "import matplotlib.pyplot as plt\n",
        "import seaborn as sns\n",
        "q = len(history.history['accuracy'])\n",
        "\n",
        "plt.figsize=(10,10)\n",
        "sns.lineplot(x = range(1,1+q),y = history.history['accuracy'], label='Accuracy')\n",
        "plt.xlabel('epochs')\n",
        "plt.ylabel('Accuray')"
      ],
      "execution_count": null,
      "outputs": [
        {
          "output_type": "execute_result",
          "data": {
            "text/plain": [
              "Text(0, 0.5, 'Accuray')"
            ]
          },
          "metadata": {
            "tags": []
          },
          "execution_count": 8
        },
        {
          "output_type": "display_data",
          "data": {
            "image/png": "[encoded data removed]",
            "text/plain": [
              "<Figure size 432x288 with 1 Axes>"
            ]
          },
          "metadata": {
            "tags": [],
            "needs_background": "light"
          }
        }
      ]
    },
    {
      "cell_type": "code",
      "metadata": {
        "id": "5n2RoEc0YH6b",
        "colab_type": "code",
        "colab": {
          "base_uri": "https://localhost:8080/",
          "height": 85
        },
        "outputId": "19c28c30-4cda-42f8-bd18-d5501db19c95"
      },
      "source": [
        "# k = 11\n",
        "# Select classes\n",
        "classes = [ 1,  2,  3,  4,  5,  6,  7,  8,  9, 10, 11, 12, 13, 14, 15, 16, 17, 18, 19]\n",
        "can = [1,  2,  3,  4,  5,  6,  7,  8,  9, 10, 11 ]\n",
        "not_can = [12, 13, 14, 15, 16, 17, 18, 19]\n",
        "\n",
        "# Training data\n",
        "# k = 10 [1,  2,  3,  4,  5,  6,  7,  8,  9, 10, 11]    \n",
        "# => 11 classes, 1600 each\n",
        "# unkown > [12, 13, 14, 15, 16, 17, 18, 19] \n",
        "# => 8 classes. 200 each => unknow: 1600 images\n",
        "\n",
        "# Filter classes for training data\n",
        "counter = [0] * 26\n",
        "filter_arr = []\n",
        "for elm in y_train:\n",
        "  if int(elm) in can and counter[elm - 1] < 1600:\n",
        "    filter_arr.append(True)\n",
        "    counter[elm - 1] += 1\n",
        "  elif 12 <= int(elm) <= 19 and counter[elm - 1] < 200: \n",
        "    filter_arr.append(True)\n",
        "    counter[elm - 1] += 1\n",
        "  else:\n",
        "    filter_arr.append(False)\n",
        "\n",
        "y_train_k11 = y_train[filter_arr]\n",
        "print(y_train_k11.shape)\n",
        "# (19200,)\n",
        "X_train_k11 = X_train[filter_arr]\n",
        "# (19200, 28, 28, 1)\n",
        "print(X_train_k11.shape)\n",
        "\n",
        "# Test data\n",
        "counter_test = [0] * 26\n",
        "filter_arr_test = []\n",
        "for elm in y_test:\n",
        "  if int(elm) in can and counter_test[elm - 1] < 320:\n",
        "    filter_arr_test.append(True)\n",
        "    counter_test[elm - 1] += 1\n",
        "  elif 12 <= int(elm) <= 19 and counter_test[elm - 1] < 40: \n",
        "    filter_arr_test.append(True)\n",
        "    counter_test[elm - 1] += 1\n",
        "  else:\n",
        "    filter_arr_test.append(False)\n",
        "\n",
        "y_test_k11 = y_test[filter_arr_test]\n",
        "print(y_test_k11.shape)\n",
        "# (3840,)\n",
        "X_test_k11 = X_test[filter_arr_test]\n",
        "# (3840, 28, 28, 1)\n",
        "print(X_test_k11.shape)\n",
        "\n",
        "\n",
        "\n"
      ],
      "execution_count": null,
      "outputs": [
        {
          "output_type": "stream",
          "text": [
            "(19200,)\n",
            "(19200, 28, 28, 1)\n",
            "(3840,)\n",
            "(3840, 28, 28, 1)\n"
          ],
          "name": "stdout"
        }
      ]
    },
    {
      "cell_type": "code",
      "metadata": {
        "id": "aMJynDxrFdA2",
        "colab_type": "code",
        "colab": {}
      },
      "source": [
        "# k = 11\n",
        "# Build model\n",
        "model11 = tf.keras.models.Sequential([\n",
        "  tf.keras.layers.Flatten(input_shape=(28, 28, 1)),\n",
        "  tf.keras.layers.Dense(128,activation='relu'),\n",
        "  tf.keras.layers.Dense(128, activation='relu'),\n",
        "  tf.keras.layers.Dense(64, activation='relu'),\n",
        "  tf.keras.layers.Dense(37, activation='softmax')\n",
        "])\n",
        "\n",
        "# Model configuration\n",
        "model11.compile(\n",
        "    loss='sparse_categorical_crossentropy',\n",
        "    optimizer=tf.keras.optimizers.Adam(0.001),\n",
        "    metrics=['accuracy'],\n",
        ")\n"
      ],
      "execution_count": null,
      "outputs": []
    },
    {
      "cell_type": "code",
      "metadata": {
        "id": "og3dLCPjIC6l",
        "colab_type": "code",
        "colab": {
          "base_uri": "https://localhost:8080/",
          "height": 391
        },
        "outputId": "460d3597-fb57-4e0f-a632-5f3606a5fda6"
      },
      "source": [
        "# k = 11\n",
        "# Train model\n",
        "start = time.time()\n",
        "\n",
        "history11 = model11.fit(\n",
        "    X_train_k11, y_train_k11,\n",
        "    epochs=10,\n",
        "    validation_data=(X_test_k11, y_test_k11),\n",
        ")\n",
        "\n",
        "elapsed_time = time.time() - start\n",
        "print(\"Elapsed time for training training set: \\n\" + str(int(round(elapsed_time * 1000))) + \" ms\")\n"
      ],
      "execution_count": null,
      "outputs": [
        {
          "output_type": "stream",
          "text": [
            "Epoch 1/10\n",
            "600/600 [==============================] - 1s 2ms/step - loss: 3.2418 - accuracy: 0.5020 - val_loss: 1.3457 - val_accuracy: 0.6229\n",
            "Epoch 2/10\n",
            "600/600 [==============================] - 1s 2ms/step - loss: 1.0772 - accuracy: 0.6915 - val_loss: 1.1071 - val_accuracy: 0.6854\n",
            "Epoch 3/10\n",
            "600/600 [==============================] - 1s 2ms/step - loss: 0.8130 - accuracy: 0.7588 - val_loss: 0.8215 - val_accuracy: 0.7648\n",
            "Epoch 4/10\n",
            "600/600 [==============================] - 1s 2ms/step - loss: 0.6813 - accuracy: 0.7955 - val_loss: 0.8020 - val_accuracy: 0.7802\n",
            "Epoch 5/10\n",
            "600/600 [==============================] - 1s 2ms/step - loss: 0.5887 - accuracy: 0.8247 - val_loss: 0.6968 - val_accuracy: 0.8021\n",
            "Epoch 6/10\n",
            "600/600 [==============================] - 1s 2ms/step - loss: 0.5445 - accuracy: 0.8378 - val_loss: 0.6368 - val_accuracy: 0.8224\n",
            "Epoch 7/10\n",
            "600/600 [==============================] - 1s 2ms/step - loss: 0.4890 - accuracy: 0.8514 - val_loss: 0.6501 - val_accuracy: 0.8326\n",
            "Epoch 8/10\n",
            "600/600 [==============================] - 1s 2ms/step - loss: 0.4574 - accuracy: 0.8597 - val_loss: 0.6136 - val_accuracy: 0.8432\n",
            "Epoch 9/10\n",
            "600/600 [==============================] - 1s 2ms/step - loss: 0.4240 - accuracy: 0.8659 - val_loss: 0.6078 - val_accuracy: 0.8357\n",
            "Epoch 10/10\n",
            "600/600 [==============================] - 1s 2ms/step - loss: 0.3848 - accuracy: 0.8781 - val_loss: 0.6159 - val_accuracy: 0.8385\n",
            "Elapsed time for training training set: \n",
            "11334 ms\n"
          ],
          "name": "stdout"
        }
      ]
    },
    {
      "cell_type": "code",
      "metadata": {
        "id": "81bryRfsFgkB",
        "colab_type": "code",
        "colab": {
          "base_uri": "https://localhost:8080/",
          "height": 68
        },
        "outputId": "88728ddb-f897-46eb-b915-e5ff5b0cb329"
      },
      "source": [
        "# k = 11\n",
        "# Evaluate training data\n",
        "start = time.time()\n",
        "\n",
        "model11.evaluate(x = X_train_k11, y = y_train_k11, verbose=2)\n",
        "\n",
        "elapsed_time = time.time() - start\n",
        "print(\"Elapsed time for evaluating training set: \\n\" + str(int(round(elapsed_time * 1000))) + \" ms\")"
      ],
      "execution_count": null,
      "outputs": [
        {
          "output_type": "stream",
          "text": [
            "600/600 - 0s - loss: 0.3326 - accuracy: 0.8952\n",
            "Elapsed time for evaluating training set: \n",
            "521 ms\n"
          ],
          "name": "stdout"
        }
      ]
    },
    {
      "cell_type": "code",
      "metadata": {
        "id": "a0PtEflWFi9V",
        "colab_type": "code",
        "colab": {
          "base_uri": "https://localhost:8080/",
          "height": 68
        },
        "outputId": "7d8f607c-7f8a-4fb1-dd3f-c73bedcd6cc8"
      },
      "source": [
        "# k = 11\n",
        "# Evaluate test data\n",
        "start = time.time()\n",
        "\n",
        "model11.evaluate(x = X_test_k11, y = y_test_k11, verbose=2)\n",
        "\n",
        "elapsed_time = time.time() - start\n",
        "print(\"Elapsed time for evaluating test set: \\n\" + str(int(round(elapsed_time * 1000))) + \" ms\")"
      ],
      "execution_count": null,
      "outputs": [
        {
          "output_type": "stream",
          "text": [
            "120/120 - 0s - loss: 0.6159 - accuracy: 0.8385\n",
            "Elapsed time for evaluating test set: \n",
            "142 ms\n"
          ],
          "name": "stdout"
        }
      ]
    },
    {
      "cell_type": "code",
      "metadata": {
        "id": "H9tj07HoFqLN",
        "colab_type": "code",
        "colab": {
          "base_uri": "https://localhost:8080/",
          "height": 296
        },
        "outputId": "53a60872-8783-46d3-978b-ca8cf7f22b3c"
      },
      "source": [
        "# k = 11\n",
        "# Make accuracy plot\n",
        "import matplotlib.pyplot as plt\n",
        "import seaborn as sns\n",
        "q = len(history11.history['accuracy'])\n",
        "\n",
        "plt.figsize=(10,10)\n",
        "sns.lineplot(x = range(1,1+q),y = history11.history['accuracy'], label='Accuracy')\n",
        "plt.xlabel('epochs')\n",
        "plt.ylabel('Accuray')"
      ],
      "execution_count": null,
      "outputs": [
        {
          "output_type": "execute_result",
          "data": {
            "text/plain": [
              "Text(0, 0.5, 'Accuray')"
            ]
          },
          "metadata": {
            "tags": []
          },
          "execution_count": 14
        },
        {
          "output_type": "display_data",
          "data": {
            "image/png": "[encoded data removed]",
            "text/plain": [
              "<Figure size 432x288 with 1 Axes>"
            ]
          },
          "metadata": {
            "tags": [],
            "needs_background": "light"
          }
        }
      ]
    },
    {
      "cell_type": "code",
      "metadata": {
        "id": "zpozJl5rFss5",
        "colab_type": "code",
        "colab": {}
      },
      "source": [
        ""
      ],
      "execution_count": null,
      "outputs": []
    }
  ]
}