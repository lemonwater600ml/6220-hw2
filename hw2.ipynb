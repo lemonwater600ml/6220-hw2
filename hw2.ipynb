{
  "nbformat": 4,
  "nbformat_minor": 0,
  "metadata": {
    "colab": {
      "name": "Untitled0.ipynb",
      "provenance": [],
      "collapsed_sections": [],
      "authorship_tag": "ABX9TyMfMzA360NUHzov29Nhz5FR",
      "include_colab_link": true
    },
    "kernelspec": {
      "name": "python3",
      "display_name": "Python 3"
    }
  },
  "cells": [
    {
      "cell_type": "markdown",
      "metadata": {
        "id": "view-in-github",
        "colab_type": "text"
      },
      "source": [
        "<a href=\"https://colab.research.google.com/github/lemonwater600ml/6220-hw2/blob/master/hw2.ipynb\" target=\"_parent\"><img src=\"https://colab.research.google.com/assets/colab-badge.svg\" alt=\"Open In Colab\"/></a>"
      ]
    },
    {
      "cell_type": "code",
      "metadata": {
        "id": "-3C2T1DCjBeR",
        "colab_type": "code",
        "colab": {
          "base_uri": "https://localhost:8080/",
          "height": 85
        },
        "outputId": "3e609989-72ef-46bc-bf38-698e0324ffa3"
      },
      "source": [
        "# Reference: https://www.tensorflow.org/datasets/keras_example\n",
        "# Import libraries\n",
        "import tensorflow.compat.v2 as tf\n",
        "import tensorflow_datasets as tfds\n",
        "import numpy as np\n",
        "import time\n",
        "\n",
        "import matplotlib.pyplot as plt\n",
        "import seaborn as sns\n",
        "\n",
        "tfds.disable_progress_bar()\n",
        "tf.enable_v2_behavior()\n",
        "\n",
        "# Load data from tfds\n",
        "start = time.time()\n",
        "\n",
        "(ds_train, ds_test), ds_info = tfds.load(\n",
        "    'emnist/letters',\n",
        "    split=['train', 'test'],\n",
        "    shuffle_files=True,\n",
        "    as_supervised=True,\n",
        "    with_info=True,\n",
        ")\n",
        "\n",
        "print(\"Elapsed time for loading data: \\n\" +  str(round((time.time() - start)*1000)) + \"ms\")"
      ],
      "execution_count": 1,
      "outputs": [
        {
          "output_type": "stream",
          "text": [
            "/usr/local/lib/python3.6/dist-packages/statsmodels/tools/_testing.py:19: FutureWarning: pandas.util.testing is deprecated. Use the functions in the public API at pandas.testing instead.\n",
            "  import pandas.util.testing as tm\n"
          ],
          "name": "stderr"
        },
        {
          "output_type": "stream",
          "text": [
            "Elapsed time for loading data: \n",
            "195ms\n"
          ],
          "name": "stdout"
        }
      ]
    },
    {
      "cell_type": "code",
      "metadata": {
        "id": "J6XAkO7AjZEn",
        "colab_type": "code",
        "colab": {
          "base_uri": "https://localhost:8080/",
          "height": 139
        },
        "outputId": "12f3de15-dfc3-4be2-ee4e-cdbd3574ec24"
      },
      "source": [
        "# Convert to np.array\n",
        "start = time.time()\n",
        "\n",
        "train_array = np.vstack(tfds.as_numpy(ds_train))\n",
        "X_train = np.array(list(map(lambda x: x[0], train_array)))\n",
        "y_train = np.array(list(map(lambda x: x[1], train_array)))\n",
        "\n",
        "test_array = np.vstack(tfds.as_numpy(ds_test))\n",
        "X_test = np.array(list(map(lambda x: x[0], test_array)))\n",
        "y_test = np.array(list(map(lambda x: x[1], test_array)))\n",
        "\n",
        "print(\"Elapsed time for converting data into np.array: \\n\" +  str(round((time.time() - start)*1000)) + \"ms\")"
      ],
      "execution_count": 2,
      "outputs": [
        {
          "output_type": "stream",
          "text": [
            "/usr/local/lib/python3.6/dist-packages/ipykernel_launcher.py:4: FutureWarning: arrays to stack must be passed as a \"sequence\" type such as list or tuple. Support for non-sequence iterables such as generators is deprecated as of NumPy 1.16 and will raise an error in the future.\n",
            "  after removing the cwd from sys.path.\n",
            "/usr/local/lib/python3.6/dist-packages/ipykernel_launcher.py:8: FutureWarning: arrays to stack must be passed as a \"sequence\" type such as list or tuple. Support for non-sequence iterables such as generators is deprecated as of NumPy 1.16 and will raise an error in the future.\n",
            "  \n"
          ],
          "name": "stderr"
        },
        {
          "output_type": "stream",
          "text": [
            "Elapsed time for converting data into np.array: \n",
            "34223ms\n"
          ],
          "name": "stdout"
        }
      ]
    },
    {
      "cell_type": "code",
      "metadata": {
        "id": "d55xyfD9urR-",
        "colab_type": "code",
        "colab": {}
      },
      "source": [
        ""
      ],
      "execution_count": 2,
      "outputs": []
    },
    {
      "cell_type": "code",
      "metadata": {
        "id": "VpqK6FMKwXbJ",
        "colab_type": "code",
        "colab": {
          "base_uri": "https://localhost:8080/",
          "height": 85
        },
        "outputId": "b65f4be2-fe0e-41f9-82f9-0e03eb8d27fb"
      },
      "source": [
        "# np.unique(y_train): 26\n",
        "# np.unique(y_train): 19\n",
        "# Select classes\n",
        "classes = [ 1,  2,  3,  4,  5,  6,  7,  8,  9, 10, 11, 12, 13, 14, 15, 16, 17, 18, 19]\n",
        "can = [1, 2, 3]\n",
        "not_can = [4,  5,  6,  7,  8,  9, 10, 11, 12, 13, 14, 15, 16, 17, 18, 19, 20, 21, 22, 23, 24, 25, 26]\n",
        "\n",
        "\n",
        "# Training data\n",
        "# k = 3    => 3 classes, 1600 \n",
        "# unkown > 4 ~ 19 => 16 classes. 100 each => unknow: 1600 images\n",
        "\n",
        "# Filter classes for training data\n",
        "counter = [0] * 26\n",
        "filter_arr = []\n",
        "for elm in y_train:\n",
        "  if int(elm) in can and counter[elm - 1] < 1600:\n",
        "    filter_arr.append(True)\n",
        "    counter[elm - 1] += 1\n",
        "  elif 4 <= int(elm) <= 19 and counter[elm - 1] < 100: \n",
        "    filter_arr.append(True)\n",
        "    counter[elm - 1] += 1\n",
        "  else:\n",
        "    filter_arr.append(False)\n",
        "\n",
        "y_train_k3 = y_train[filter_arr]\n",
        "print(y_train_k3.shape)\n",
        "# (6400,)\n",
        "X_train_k3 = X_train[filter_arr]\n",
        "# (6400, 28, 28, 1)\n",
        "print(X_train_k3.shape)\n",
        "\n",
        "# Test data\n",
        "counter_test = [0] * 26\n",
        "filter_arr_test = []\n",
        "for elm in y_test:\n",
        "  if int(elm) in can and counter_test[elm - 1] < 320:\n",
        "    filter_arr_test.append(True)\n",
        "    counter_test[elm - 1] += 1\n",
        "  elif 4 <= int(elm) <= 19 and counter_test[elm - 1] < 20: \n",
        "    filter_arr_test.append(True)\n",
        "    counter_test[elm - 1] += 1\n",
        "  else:\n",
        "    filter_arr_test.append(False)\n",
        "\n",
        "y_test_k3 = y_test[filter_arr_test]\n",
        "print(y_test_k3.shape)\n",
        "# (1280,)\n",
        "X_test_k3 = X_test[filter_arr_test]\n",
        "# (1280, 28, 28, 1)\n",
        "print(X_test_k3.shape)\n"
      ],
      "execution_count": 3,
      "outputs": [
        {
          "output_type": "stream",
          "text": [
            "(6400,)\n",
            "(6400, 28, 28, 1)\n",
            "(1280,)\n",
            "(1280, 28, 28, 1)\n"
          ],
          "name": "stdout"
        }
      ]
    },
    {
      "cell_type": "code",
      "metadata": {
        "id": "G0FVsX3YlLNr",
        "colab_type": "code",
        "colab": {}
      },
      "source": [
        "\n",
        "# # Nomalize images for train and test data\n",
        "# def normalize_img(image, label):\n",
        "#   \"\"\"Normalizes images: `uint8` -> `float32`.\"\"\"\n",
        "#   return tf.cast(image, tf.float32) / 255., label\n",
        "\n",
        "# ds_train = ds_train.map(\n",
        "#     normalize_img, num_parallel_calls=tf.data.experimental.AUTOTUNE)\n",
        "# ds_train = ds_train.cache()\n",
        "# ds_train = ds_train.shuffle(ds_info.splits['train'].num_examples)\n",
        "# ds_train = ds_train.batch(128)\n",
        "# ds_train = ds_train.prefetch(tf.data.experimental.AUTOTUNE)\n",
        "\n",
        "# ds_test = ds_test.map(\n",
        "#     normalize_img, num_parallel_calls=tf.data.experimental.AUTOTUNE)\n",
        "# ds_test = ds_test.batch(128)\n",
        "# ds_test = ds_test.cache()\n",
        "# ds_test = ds_test.prefetch(tf.data.experimental.AUTOTUNE)\n"
      ],
      "execution_count": 4,
      "outputs": []
    },
    {
      "cell_type": "code",
      "metadata": {
        "id": "JIL_8TKPTRB7",
        "colab_type": "code",
        "colab": {}
      },
      "source": [
        "# Build model\n",
        "model = tf.keras.models.Sequential([\n",
        "  tf.keras.layers.Flatten(input_shape=(28, 28, 1)),\n",
        "  tf.keras.layers.Dense(128,activation='relu'),\n",
        "  tf.keras.layers.Dense(128, activation='relu'),\n",
        "  tf.keras.layers.Dense(64, activation='relu'),\n",
        "  tf.keras.layers.Dense(37, activation='softmax')\n",
        "])\n",
        "\n",
        "# Model configuration\n",
        "model.compile(\n",
        "    loss='sparse_categorical_crossentropy',\n",
        "    optimizer=tf.keras.optimizers.Adam(0.001),\n",
        "    metrics=['accuracy'],\n",
        ")\n"
      ],
      "execution_count": 5,
      "outputs": []
    },
    {
      "cell_type": "code",
      "metadata": {
        "id": "VQq6vRZVX-Hq",
        "colab_type": "code",
        "colab": {
          "base_uri": "https://localhost:8080/",
          "height": 391
        },
        "outputId": "beaa4ce1-4cb9-4a6f-c8f5-88a4920c5d8c"
      },
      "source": [
        "# Time\n",
        "start = time.time()\n",
        "\n",
        "# Train\n",
        "history = model.fit(\n",
        "    X_train_k3, y_train_k3,\n",
        "    epochs=10,\n",
        "    validation_data=(X_test_k3, y_test_k3),\n",
        ")\n",
        "\n",
        "# Print elapsed time\n",
        "elapsed_time = time.time() - start\n",
        "print(\"Elapsed time for training training set: \\n\" + str(int(round(elapsed_time * 1000))) + \" ms\")\n"
      ],
      "execution_count": 6,
      "outputs": [
        {
          "output_type": "stream",
          "text": [
            "Epoch 1/10\n",
            "200/200 [==============================] - 0s 2ms/step - loss: 6.0352 - accuracy: 0.5773 - val_loss: 1.5203 - val_accuracy: 0.6680\n",
            "Epoch 2/10\n",
            "200/200 [==============================] - 0s 2ms/step - loss: 1.2019 - accuracy: 0.7109 - val_loss: 1.2505 - val_accuracy: 0.7148\n",
            "Epoch 3/10\n",
            "200/200 [==============================] - 0s 2ms/step - loss: 0.8486 - accuracy: 0.7702 - val_loss: 1.0415 - val_accuracy: 0.7570\n",
            "Epoch 4/10\n",
            "200/200 [==============================] - 0s 2ms/step - loss: 0.7140 - accuracy: 0.7975 - val_loss: 0.9899 - val_accuracy: 0.7742\n",
            "Epoch 5/10\n",
            "200/200 [==============================] - 0s 2ms/step - loss: 0.5640 - accuracy: 0.8355 - val_loss: 0.9855 - val_accuracy: 0.7898\n",
            "Epoch 6/10\n",
            "200/200 [==============================] - 0s 2ms/step - loss: 0.4961 - accuracy: 0.8544 - val_loss: 1.0109 - val_accuracy: 0.7906\n",
            "Epoch 7/10\n",
            "200/200 [==============================] - 0s 2ms/step - loss: 0.4386 - accuracy: 0.8673 - val_loss: 0.9195 - val_accuracy: 0.7992\n",
            "Epoch 8/10\n",
            "200/200 [==============================] - 0s 2ms/step - loss: 0.3973 - accuracy: 0.8775 - val_loss: 0.9364 - val_accuracy: 0.8008\n",
            "Epoch 9/10\n",
            "200/200 [==============================] - 0s 2ms/step - loss: 0.3578 - accuracy: 0.8903 - val_loss: 0.9511 - val_accuracy: 0.7953\n",
            "Epoch 10/10\n",
            "200/200 [==============================] - 0s 2ms/step - loss: 0.3439 - accuracy: 0.8942 - val_loss: 0.9365 - val_accuracy: 0.8094\n",
            "Elapsed time for training training set: \n",
            "4297 ms\n"
          ],
          "name": "stdout"
        }
      ]
    },
    {
      "cell_type": "code",
      "metadata": {
        "id": "xNQzKtSkBdWP",
        "colab_type": "code",
        "colab": {
          "base_uri": "https://localhost:8080/",
          "height": 68
        },
        "outputId": "8209523f-cab3-4e92-f6af-57d3e62ae86a"
      },
      "source": [
        "# Evaluate training data\n",
        "start = time.time()\n",
        "\n",
        "model.evaluate(x = X_train_k3, y = y_train_k3, verbose=2)\n",
        "\n",
        "elapsed_time = time.time() - start\n",
        "print(\"Elapsed time for evaluating training set: \\n\" + str(int(round(elapsed_time * 1000))) + \" ms\")"
      ],
      "execution_count": 7,
      "outputs": [
        {
          "output_type": "stream",
          "text": [
            "200/200 - 0s - loss: 0.2672 - accuracy: 0.9141\n",
            "Elapsed time for evaluating training set: \n",
            "188 ms\n"
          ],
          "name": "stdout"
        }
      ]
    },
    {
      "cell_type": "code",
      "metadata": {
        "id": "fizP1MWABgCP",
        "colab_type": "code",
        "colab": {
          "base_uri": "https://localhost:8080/",
          "height": 68
        },
        "outputId": "13358ad5-b255-47b3-ca46-24b01d868545"
      },
      "source": [
        "# Evaluate test data\n",
        "start = time.time()\n",
        "\n",
        "model.evaluate(x = X_test_k3, y = y_test_k3, verbose=2)\n",
        "\n",
        "elapsed_time = time.time() - start\n",
        "print(\"Elapsed time for evaluating test set: \\n\" + str(int(round(elapsed_time * 1000))) + \" ms\")"
      ],
      "execution_count": 8,
      "outputs": [
        {
          "output_type": "stream",
          "text": [
            "40/40 - 0s - loss: 0.9365 - accuracy: 0.8094\n",
            "Elapsed time for evaluating test set: \n",
            "77 ms\n"
          ],
          "name": "stdout"
        }
      ]
    },
    {
      "cell_type": "code",
      "metadata": {
        "id": "gFsQc1Xrch1i",
        "colab_type": "code",
        "colab": {
          "base_uri": "https://localhost:8080/",
          "height": 296
        },
        "outputId": "98083afc-7451-4db5-d61f-8cf1a006c261"
      },
      "source": [
        "# Make accuracy plot\n",
        "import matplotlib.pyplot as plt\n",
        "import seaborn as sns\n",
        "q = len(history.history['accuracy'])\n",
        "\n",
        "plt.figsize=(10,10)\n",
        "sns.lineplot(x = range(1,1+q),y = history.history['accuracy'], label='Accuracy')\n",
        "# sns.lineplot(x = range(1,1+q),y = history.history['val_loss'], label='val_loss')\n",
        "plt.xlabel('epochs')\n",
        "plt.ylabel('Accuray')"
      ],
      "execution_count": 9,
      "outputs": [
        {
          "output_type": "execute_result",
          "data": {
            "text/plain": [
              "Text(0, 0.5, 'Accuray')"
            ]
          },
          "metadata": {
            "tags": []
          },
          "execution_count": 9
        },
        {
          "output_type": "display_data",
          "data": {
            "image/png": "[encoded data removed]",
            "text/plain": [
              "<Figure size 432x288 with 1 Axes>"
            ]
          },
          "metadata": {
            "tags": [],
            "needs_background": "light"
          }
        }
      ]
    },
    {
      "cell_type": "code",
      "metadata": {
        "id": "5n2RoEc0YH6b",
        "colab_type": "code",
        "colab": {
          "base_uri": "https://localhost:8080/",
          "height": 85
        },
        "outputId": "a2158824-3ce3-4da2-8515-d58c9b000675"
      },
      "source": [
        "# k = 11\n",
        "\n",
        "# np.unique(y_train): 26\n",
        "# np.unique(y_train): 19\n",
        "# Select classes\n",
        "classes = [ 1,  2,  3,  4,  5,  6,  7,  8,  9, 10, 11, 12, 13, 14, 15, 16, 17, 18, 19]\n",
        "can = [1,  2,  3,  4,  5,  6,  7,  8,  9, 10, 11 ]\n",
        "not_can = [12, 13, 14, 15, 16, 17, 18, 19]\n",
        "\n",
        "# Training data\n",
        "# k = 10 [1,  2,  3,  4,  5,  6,  7,  8,  9, 10, 11]    \n",
        "# => 11 classes, 1600 each\n",
        "# unkown > [12, 13, 14, 15, 16, 17, 18, 19] \n",
        "# => 8 classes. 200 each => unknow: 1600 images\n",
        "\n",
        "# Filter classes for training data\n",
        "counter = [0] * 26\n",
        "filter_arr = []\n",
        "for elm in y_train:\n",
        "  if int(elm) in can and counter[elm - 1] < 1600:\n",
        "    filter_arr.append(True)\n",
        "    counter[elm - 1] += 1\n",
        "  elif 12 <= int(elm) <= 19 and counter[elm - 1] < 200: \n",
        "    filter_arr.append(True)\n",
        "    counter[elm - 1] += 1\n",
        "  else:\n",
        "    filter_arr.append(False)\n",
        "\n",
        "y_train_k11 = y_train[filter_arr]\n",
        "print(y_train_k11.shape)\n",
        "# (19200,)\n",
        "X_train_k11 = X_train[filter_arr]\n",
        "# (19200, 28, 28, 1)\n",
        "print(X_train_k11.shape)\n",
        "\n",
        "# Test data\n",
        "counter_test = [0] * 26\n",
        "filter_arr_test = []\n",
        "for elm in y_test:\n",
        "  if int(elm) in can and counter_test[elm - 1] < 320:\n",
        "    filter_arr_test.append(True)\n",
        "    counter_test[elm - 1] += 1\n",
        "  elif 12 <= int(elm) <= 19 and counter_test[elm - 1] < 40: \n",
        "    filter_arr_test.append(True)\n",
        "    counter_test[elm - 1] += 1\n",
        "  else:\n",
        "    filter_arr_test.append(False)\n",
        "\n",
        "y_test_k11 = y_test[filter_arr_test]\n",
        "print(y_test_k11.shape)\n",
        "# (3840,)\n",
        "X_test_k11 = X_test[filter_arr_test]\n",
        "# (3840, 28, 28, 1)\n",
        "print(X_test_k11.shape)\n",
        "\n",
        "\n",
        "\n"
      ],
      "execution_count": 10,
      "outputs": [
        {
          "output_type": "stream",
          "text": [
            "(19200,)\n",
            "(19200, 28, 28, 1)\n",
            "(3840,)\n",
            "(3840, 28, 28, 1)\n"
          ],
          "name": "stdout"
        }
      ]
    },
    {
      "cell_type": "code",
      "metadata": {
        "id": "aMJynDxrFdA2",
        "colab_type": "code",
        "colab": {}
      },
      "source": [
        "# k = 11\n",
        "# Build model\n",
        "model = tf.keras.models.Sequential([\n",
        "  tf.keras.layers.Flatten(input_shape=(28, 28, 1)),\n",
        "  tf.keras.layers.Dense(128,activation='relu'),\n",
        "  tf.keras.layers.Dense(128, activation='relu'),\n",
        "  tf.keras.layers.Dense(64, activation='relu'),\n",
        "  tf.keras.layers.Dense(37, activation='softmax')\n",
        "])\n",
        "\n",
        "# Model configuration\n",
        "model.compile(\n",
        "    loss='sparse_categorical_crossentropy',\n",
        "    optimizer=tf.keras.optimizers.Adam(0.001),\n",
        "    metrics=['accuracy'],\n",
        ")\n"
      ],
      "execution_count": 11,
      "outputs": []
    },
    {
      "cell_type": "code",
      "metadata": {
        "id": "og3dLCPjIC6l",
        "colab_type": "code",
        "colab": {
          "base_uri": "https://localhost:8080/",
          "height": 391
        },
        "outputId": "0cb6376d-41b6-4fb0-a4b9-acffb21bff7c"
      },
      "source": [
        "# k = 11\n",
        "# Train model\n",
        "start = time.time()\n",
        "\n",
        "history11 = model.fit(\n",
        "    X_train_k3, y_train_k3,\n",
        "    epochs=10,\n",
        "    validation_data=(X_test_k3, y_test_k3),\n",
        ")\n",
        "\n",
        "elapsed_time = time.time() - start\n",
        "print(\"Elapsed time for training training set: \\n\" + str(int(round(elapsed_time * 1000))) + \" ms\")\n"
      ],
      "execution_count": 12,
      "outputs": [
        {
          "output_type": "stream",
          "text": [
            "Epoch 1/10\n",
            "200/200 [==============================] - 0s 2ms/step - loss: 5.4621 - accuracy: 0.5797 - val_loss: 1.5428 - val_accuracy: 0.6719\n",
            "Epoch 2/10\n",
            "200/200 [==============================] - 0s 2ms/step - loss: 1.2032 - accuracy: 0.7113 - val_loss: 1.2578 - val_accuracy: 0.7055\n",
            "Epoch 3/10\n",
            "200/200 [==============================] - 0s 2ms/step - loss: 0.8781 - accuracy: 0.7720 - val_loss: 1.2056 - val_accuracy: 0.7398\n",
            "Epoch 4/10\n",
            "200/200 [==============================] - 0s 2ms/step - loss: 0.6982 - accuracy: 0.8119 - val_loss: 1.0199 - val_accuracy: 0.7602\n",
            "Epoch 5/10\n",
            "200/200 [==============================] - 0s 2ms/step - loss: 0.5687 - accuracy: 0.8334 - val_loss: 1.0158 - val_accuracy: 0.7812\n",
            "Epoch 6/10\n",
            "200/200 [==============================] - 0s 2ms/step - loss: 0.5172 - accuracy: 0.8511 - val_loss: 1.0394 - val_accuracy: 0.7688\n",
            "Epoch 7/10\n",
            "200/200 [==============================] - 0s 2ms/step - loss: 0.4476 - accuracy: 0.8695 - val_loss: 0.8647 - val_accuracy: 0.7977\n",
            "Epoch 8/10\n",
            "200/200 [==============================] - 0s 2ms/step - loss: 0.3829 - accuracy: 0.8834 - val_loss: 1.0601 - val_accuracy: 0.7906\n",
            "Epoch 9/10\n",
            "200/200 [==============================] - 0s 2ms/step - loss: 0.3906 - accuracy: 0.8803 - val_loss: 1.0448 - val_accuracy: 0.8062\n",
            "Epoch 10/10\n",
            "200/200 [==============================] - 0s 2ms/step - loss: 0.3394 - accuracy: 0.8948 - val_loss: 0.9113 - val_accuracy: 0.8258\n",
            "Elapsed time for training training set: \n",
            "4165 ms\n"
          ],
          "name": "stdout"
        }
      ]
    },
    {
      "cell_type": "code",
      "metadata": {
        "id": "81bryRfsFgkB",
        "colab_type": "code",
        "colab": {
          "base_uri": "https://localhost:8080/",
          "height": 68
        },
        "outputId": "2f2ae488-7717-44f2-934c-3cb95f83815f"
      },
      "source": [
        "# k = 11\n",
        "# Evaluate training data\n",
        "start = time.time()\n",
        "\n",
        "model.evaluate(x = X_train_k11, y = y_train_k11, verbose=2)\n",
        "\n",
        "elapsed_time = time.time() - start\n",
        "print(\"Elapsed time for evaluating training set: \\n\" + str(int(round(elapsed_time * 1000))) + \" ms\")"
      ],
      "execution_count": 13,
      "outputs": [
        {
          "output_type": "stream",
          "text": [
            "600/600 - 0s - loss: 1.9477 - accuracy: 0.6201\n",
            "Elapsed time for evaluating training set: \n",
            "508 ms\n"
          ],
          "name": "stdout"
        }
      ]
    },
    {
      "cell_type": "code",
      "metadata": {
        "id": "a0PtEflWFi9V",
        "colab_type": "code",
        "colab": {
          "base_uri": "https://localhost:8080/",
          "height": 68
        },
        "outputId": "a99eefc8-f41a-48af-bfdc-fcad69c5b8a6"
      },
      "source": [
        "# k = 11\n",
        "# Evaluate test data\n",
        "start = time.time()\n",
        "\n",
        "model.evaluate(x = X_test_k11, y = y_test_k11, verbose=2)\n",
        "\n",
        "elapsed_time = time.time() - start\n",
        "print(\"Elapsed time for evaluating test set: \\n\" + str(int(round(elapsed_time * 1000))) + \" ms\")"
      ],
      "execution_count": 14,
      "outputs": [
        {
          "output_type": "stream",
          "text": [
            "120/120 - 0s - loss: 2.2014 - accuracy: 0.5758\n",
            "Elapsed time for evaluating test set: \n",
            "130 ms\n"
          ],
          "name": "stdout"
        }
      ]
    },
    {
      "cell_type": "code",
      "metadata": {
        "id": "H9tj07HoFqLN",
        "colab_type": "code",
        "colab": {
          "base_uri": "https://localhost:8080/",
          "height": 296
        },
        "outputId": "56cf2311-c77c-4b66-9ae9-d599018f3985"
      },
      "source": [
        "# k = 11\n",
        "# Make accuracy plot\n",
        "import matplotlib.pyplot as plt\n",
        "import seaborn as sns\n",
        "q = len(history11.history['accuracy'])\n",
        "\n",
        "plt.figsize=(10,10)\n",
        "sns.lineplot(x = range(1,1+q),y = history11.history['accuracy'], label='Accuracy')\n",
        "plt.xlabel('epochs')\n",
        "plt.ylabel('Accuray')"
      ],
      "execution_count": 15,
      "outputs": [
        {
          "output_type": "execute_result",
          "data": {
            "text/plain": [
              "Text(0, 0.5, 'Accuray')"
            ]
          },
          "metadata": {
            "tags": []
          },
          "execution_count": 15
        },
        {
          "output_type": "display_data",
          "data": {
            "image/png": "[encoded data removed]",
            "text/plain": [
              "<Figure size 432x288 with 1 Axes>"
            ]
          },
          "metadata": {
            "tags": [],
            "needs_background": "light"
          }
        }
      ]
    },
    {
      "cell_type": "code",
      "metadata": {
        "id": "zpozJl5rFss5",
        "colab_type": "code",
        "colab": {}
      },
      "source": [
        ""
      ],
      "execution_count": 15,
      "outputs": []
    }
  ]
}